{
 "cells": [
  {
   "cell_type": "markdown",
   "id": "5670971b",
   "metadata": {},
   "source": [
    "# Imports and Libraries"
   ]
  },
  {
   "cell_type": "code",
   "execution_count": 1,
   "id": "a1409a1d",
   "metadata": {},
   "outputs": [],
   "source": [
    "import pandas as pd\n",
    "import numpy as np\n",
    "import matplotlib.pyplot as plt\n",
    "import seaborn as sns\n",
    "import scipy.stats as stats\n",
    "from statsmodels.stats.multicomp import pairwise_tukeyhsd\n",
    "\n",
    "import warnings \n",
    "warnings.filterwarnings(\"ignore\")"
   ]
  },
  {
   "cell_type": "code",
   "execution_count": 2,
   "id": "a6facfea",
   "metadata": {},
   "outputs": [
    {
     "data": {
      "text/html": [
       "<div>\n",
       "<style scoped>\n",
       "    .dataframe tbody tr th:only-of-type {\n",
       "        vertical-align: middle;\n",
       "    }\n",
       "\n",
       "    .dataframe tbody tr th {\n",
       "        vertical-align: top;\n",
       "    }\n",
       "\n",
       "    .dataframe thead th {\n",
       "        text-align: right;\n",
       "    }\n",
       "</style>\n",
       "<table border=\"1\" class=\"dataframe\">\n",
       "  <thead>\n",
       "    <tr style=\"text-align: right;\">\n",
       "      <th></th>\n",
       "      <th>age</th>\n",
       "      <th>sex</th>\n",
       "      <th>bmi</th>\n",
       "      <th>children</th>\n",
       "      <th>smoker</th>\n",
       "      <th>region</th>\n",
       "      <th>charges</th>\n",
       "    </tr>\n",
       "  </thead>\n",
       "  <tbody>\n",
       "    <tr>\n",
       "      <th>0</th>\n",
       "      <td>19</td>\n",
       "      <td>female</td>\n",
       "      <td>27.900</td>\n",
       "      <td>0</td>\n",
       "      <td>yes</td>\n",
       "      <td>southwest</td>\n",
       "      <td>16884.92400</td>\n",
       "    </tr>\n",
       "    <tr>\n",
       "      <th>1</th>\n",
       "      <td>18</td>\n",
       "      <td>male</td>\n",
       "      <td>33.770</td>\n",
       "      <td>1</td>\n",
       "      <td>no</td>\n",
       "      <td>southeast</td>\n",
       "      <td>1725.55230</td>\n",
       "    </tr>\n",
       "    <tr>\n",
       "      <th>2</th>\n",
       "      <td>28</td>\n",
       "      <td>male</td>\n",
       "      <td>33.000</td>\n",
       "      <td>3</td>\n",
       "      <td>no</td>\n",
       "      <td>southeast</td>\n",
       "      <td>4449.46200</td>\n",
       "    </tr>\n",
       "    <tr>\n",
       "      <th>3</th>\n",
       "      <td>33</td>\n",
       "      <td>male</td>\n",
       "      <td>22.705</td>\n",
       "      <td>0</td>\n",
       "      <td>no</td>\n",
       "      <td>northwest</td>\n",
       "      <td>21984.47061</td>\n",
       "    </tr>\n",
       "    <tr>\n",
       "      <th>4</th>\n",
       "      <td>32</td>\n",
       "      <td>male</td>\n",
       "      <td>28.880</td>\n",
       "      <td>0</td>\n",
       "      <td>no</td>\n",
       "      <td>northwest</td>\n",
       "      <td>3866.85520</td>\n",
       "    </tr>\n",
       "  </tbody>\n",
       "</table>\n",
       "</div>"
      ],
      "text/plain": [
       "   age     sex     bmi  children smoker     region      charges\n",
       "0   19  female  27.900         0    yes  southwest  16884.92400\n",
       "1   18    male  33.770         1     no  southeast   1725.55230\n",
       "2   28    male  33.000         3     no  southeast   4449.46200\n",
       "3   33    male  22.705         0     no  northwest  21984.47061\n",
       "4   32    male  28.880         0     no  northwest   3866.85520"
      ]
     },
     "execution_count": 2,
     "metadata": {},
     "output_type": "execute_result"
    }
   ],
   "source": [
    "df = pd.read_csv('C:/Users/16024/Desktop/CLass Dojo/Hypothesis Testing Core.csv')\n",
    "df.head()"
   ]
  },
  {
   "cell_type": "code",
   "execution_count": 3,
   "id": "d9d85395",
   "metadata": {},
   "outputs": [
    {
     "name": "stdout",
     "output_type": "stream",
     "text": [
      "<class 'pandas.core.frame.DataFrame'>\n",
      "RangeIndex: 1338 entries, 0 to 1337\n",
      "Data columns (total 7 columns):\n",
      " #   Column    Non-Null Count  Dtype  \n",
      "---  ------    --------------  -----  \n",
      " 0   age       1338 non-null   int64  \n",
      " 1   sex       1338 non-null   object \n",
      " 2   bmi       1338 non-null   float64\n",
      " 3   children  1338 non-null   int64  \n",
      " 4   smoker    1338 non-null   object \n",
      " 5   region    1338 non-null   object \n",
      " 6   charges   1338 non-null   float64\n",
      "dtypes: float64(2), int64(2), object(3)\n",
      "memory usage: 73.3+ KB\n"
     ]
    }
   ],
   "source": [
    "df.info()"
   ]
  },
  {
   "cell_type": "markdown",
   "id": "6a144011",
   "metadata": {},
   "source": [
    "# Answer the following questions:\n",
    "\n",
    "- Q1. Do smokers have higher insurance charges than non-smokers?\n",
    "- Q2. Are men more likely to smoke than women?\n",
    "- Q3. Do different regions have different charges, on average?\n",
    "\n",
    "ALPHA IS .05"
   ]
  },
  {
   "cell_type": "markdown",
   "id": "8e6380e7",
   "metadata": {},
   "source": [
    "#  Q1. Do smokers have higher insurance charges than non-smokers?"
   ]
  },
  {
   "cell_type": "markdown",
   "id": "c9d357b5",
   "metadata": {},
   "source": [
    "# Null and Alternative Hypothesis\n",
    "\n",
    "Null- There is no difference in prices between smokers and non smokers.\n",
    "\n",
    "Alternative- There is a difference in prices between smokers and non smokers.\n",
    "\n",
    "The Alpha value is 0.05.\n",
    "\n",
    "The correct test for this data type and number of samples is an independent t test because this is a two sample numeric data set.\n",
    "\n",
    "The assumptions are:\n",
    "* No significant outliers\n",
    "* Normality\n",
    "* Equal Variance"
   ]
  },
  {
   "cell_type": "markdown",
   "id": "7fae1beb",
   "metadata": {},
   "source": [
    "# Splitting the Data"
   ]
  },
  {
   "cell_type": "code",
   "execution_count": 4,
   "id": "438a3b47",
   "metadata": {},
   "outputs": [
    {
     "data": {
      "text/html": [
       "<div>\n",
       "<style scoped>\n",
       "    .dataframe tbody tr th:only-of-type {\n",
       "        vertical-align: middle;\n",
       "    }\n",
       "\n",
       "    .dataframe tbody tr th {\n",
       "        vertical-align: top;\n",
       "    }\n",
       "\n",
       "    .dataframe thead th {\n",
       "        text-align: right;\n",
       "    }\n",
       "</style>\n",
       "<table border=\"1\" class=\"dataframe\">\n",
       "  <thead>\n",
       "    <tr style=\"text-align: right;\">\n",
       "      <th></th>\n",
       "      <th>age</th>\n",
       "      <th>sex</th>\n",
       "      <th>bmi</th>\n",
       "      <th>children</th>\n",
       "      <th>smoker</th>\n",
       "      <th>region</th>\n",
       "      <th>charges</th>\n",
       "    </tr>\n",
       "  </thead>\n",
       "  <tbody>\n",
       "    <tr>\n",
       "      <th>0</th>\n",
       "      <td>19</td>\n",
       "      <td>female</td>\n",
       "      <td>27.90</td>\n",
       "      <td>0</td>\n",
       "      <td>yes</td>\n",
       "      <td>southwest</td>\n",
       "      <td>16884.92400</td>\n",
       "    </tr>\n",
       "    <tr>\n",
       "      <th>11</th>\n",
       "      <td>62</td>\n",
       "      <td>female</td>\n",
       "      <td>26.29</td>\n",
       "      <td>0</td>\n",
       "      <td>yes</td>\n",
       "      <td>southeast</td>\n",
       "      <td>27808.72510</td>\n",
       "    </tr>\n",
       "    <tr>\n",
       "      <th>14</th>\n",
       "      <td>27</td>\n",
       "      <td>male</td>\n",
       "      <td>42.13</td>\n",
       "      <td>0</td>\n",
       "      <td>yes</td>\n",
       "      <td>southeast</td>\n",
       "      <td>39611.75770</td>\n",
       "    </tr>\n",
       "    <tr>\n",
       "      <th>19</th>\n",
       "      <td>30</td>\n",
       "      <td>male</td>\n",
       "      <td>35.30</td>\n",
       "      <td>0</td>\n",
       "      <td>yes</td>\n",
       "      <td>southwest</td>\n",
       "      <td>36837.46700</td>\n",
       "    </tr>\n",
       "    <tr>\n",
       "      <th>23</th>\n",
       "      <td>34</td>\n",
       "      <td>female</td>\n",
       "      <td>31.92</td>\n",
       "      <td>1</td>\n",
       "      <td>yes</td>\n",
       "      <td>northeast</td>\n",
       "      <td>37701.87680</td>\n",
       "    </tr>\n",
       "    <tr>\n",
       "      <th>29</th>\n",
       "      <td>31</td>\n",
       "      <td>male</td>\n",
       "      <td>36.30</td>\n",
       "      <td>2</td>\n",
       "      <td>yes</td>\n",
       "      <td>southwest</td>\n",
       "      <td>38711.00000</td>\n",
       "    </tr>\n",
       "    <tr>\n",
       "      <th>30</th>\n",
       "      <td>22</td>\n",
       "      <td>male</td>\n",
       "      <td>35.60</td>\n",
       "      <td>0</td>\n",
       "      <td>yes</td>\n",
       "      <td>southwest</td>\n",
       "      <td>35585.57600</td>\n",
       "    </tr>\n",
       "    <tr>\n",
       "      <th>34</th>\n",
       "      <td>28</td>\n",
       "      <td>male</td>\n",
       "      <td>36.40</td>\n",
       "      <td>1</td>\n",
       "      <td>yes</td>\n",
       "      <td>southwest</td>\n",
       "      <td>51194.55914</td>\n",
       "    </tr>\n",
       "    <tr>\n",
       "      <th>38</th>\n",
       "      <td>35</td>\n",
       "      <td>male</td>\n",
       "      <td>36.67</td>\n",
       "      <td>1</td>\n",
       "      <td>yes</td>\n",
       "      <td>northeast</td>\n",
       "      <td>39774.27630</td>\n",
       "    </tr>\n",
       "    <tr>\n",
       "      <th>39</th>\n",
       "      <td>60</td>\n",
       "      <td>male</td>\n",
       "      <td>39.90</td>\n",
       "      <td>0</td>\n",
       "      <td>yes</td>\n",
       "      <td>southwest</td>\n",
       "      <td>48173.36100</td>\n",
       "    </tr>\n",
       "  </tbody>\n",
       "</table>\n",
       "</div>"
      ],
      "text/plain": [
       "    age     sex    bmi  children smoker     region      charges\n",
       "0    19  female  27.90         0    yes  southwest  16884.92400\n",
       "11   62  female  26.29         0    yes  southeast  27808.72510\n",
       "14   27    male  42.13         0    yes  southeast  39611.75770\n",
       "19   30    male  35.30         0    yes  southwest  36837.46700\n",
       "23   34  female  31.92         1    yes  northeast  37701.87680\n",
       "29   31    male  36.30         2    yes  southwest  38711.00000\n",
       "30   22    male  35.60         0    yes  southwest  35585.57600\n",
       "34   28    male  36.40         1    yes  southwest  51194.55914\n",
       "38   35    male  36.67         1    yes  northeast  39774.27630\n",
       "39   60    male  39.90         0    yes  southwest  48173.36100"
      ]
     },
     "execution_count": 4,
     "metadata": {},
     "output_type": "execute_result"
    }
   ],
   "source": [
    "smoker_df = df[df[\"smoker\"]==\"yes\"]\n",
    "smoker_df.head(10)"
   ]
  },
  {
   "cell_type": "code",
   "execution_count": 5,
   "id": "ef25c6dd",
   "metadata": {},
   "outputs": [
    {
     "data": {
      "image/png": "[encoded data removed]",
      "text/plain": [
       "<Figure size 640x480 with 1 Axes>"
      ]
     },
     "metadata": {},
     "output_type": "display_data"
    }
   ],
   "source": [
    "ax = sns.barplot(data=df, x=\"smoker\", y=\"charges\", ci = 95)"
   ]
  },
  {
   "cell_type": "code",
   "execution_count": 6,
   "id": "ccf4c8d1",
   "metadata": {},
   "outputs": [
    {
     "data": {
      "text/html": [
       "<div>\n",
       "<style scoped>\n",
       "    .dataframe tbody tr th:only-of-type {\n",
       "        vertical-align: middle;\n",
       "    }\n",
       "\n",
       "    .dataframe tbody tr th {\n",
       "        vertical-align: top;\n",
       "    }\n",
       "\n",
       "    .dataframe thead th {\n",
       "        text-align: right;\n",
       "    }\n",
       "</style>\n",
       "<table border=\"1\" class=\"dataframe\">\n",
       "  <thead>\n",
       "    <tr style=\"text-align: right;\">\n",
       "      <th></th>\n",
       "      <th>age</th>\n",
       "      <th>sex</th>\n",
       "      <th>bmi</th>\n",
       "      <th>children</th>\n",
       "      <th>smoker</th>\n",
       "      <th>region</th>\n",
       "      <th>charges</th>\n",
       "    </tr>\n",
       "  </thead>\n",
       "  <tbody>\n",
       "    <tr>\n",
       "      <th>1</th>\n",
       "      <td>18</td>\n",
       "      <td>male</td>\n",
       "      <td>33.770</td>\n",
       "      <td>1</td>\n",
       "      <td>no</td>\n",
       "      <td>southeast</td>\n",
       "      <td>1725.55230</td>\n",
       "    </tr>\n",
       "    <tr>\n",
       "      <th>2</th>\n",
       "      <td>28</td>\n",
       "      <td>male</td>\n",
       "      <td>33.000</td>\n",
       "      <td>3</td>\n",
       "      <td>no</td>\n",
       "      <td>southeast</td>\n",
       "      <td>4449.46200</td>\n",
       "    </tr>\n",
       "    <tr>\n",
       "      <th>3</th>\n",
       "      <td>33</td>\n",
       "      <td>male</td>\n",
       "      <td>22.705</td>\n",
       "      <td>0</td>\n",
       "      <td>no</td>\n",
       "      <td>northwest</td>\n",
       "      <td>21984.47061</td>\n",
       "    </tr>\n",
       "    <tr>\n",
       "      <th>4</th>\n",
       "      <td>32</td>\n",
       "      <td>male</td>\n",
       "      <td>28.880</td>\n",
       "      <td>0</td>\n",
       "      <td>no</td>\n",
       "      <td>northwest</td>\n",
       "      <td>3866.85520</td>\n",
       "    </tr>\n",
       "    <tr>\n",
       "      <th>5</th>\n",
       "      <td>31</td>\n",
       "      <td>female</td>\n",
       "      <td>25.740</td>\n",
       "      <td>0</td>\n",
       "      <td>no</td>\n",
       "      <td>southeast</td>\n",
       "      <td>3756.62160</td>\n",
       "    </tr>\n",
       "    <tr>\n",
       "      <th>6</th>\n",
       "      <td>46</td>\n",
       "      <td>female</td>\n",
       "      <td>33.440</td>\n",
       "      <td>1</td>\n",
       "      <td>no</td>\n",
       "      <td>southeast</td>\n",
       "      <td>8240.58960</td>\n",
       "    </tr>\n",
       "    <tr>\n",
       "      <th>7</th>\n",
       "      <td>37</td>\n",
       "      <td>female</td>\n",
       "      <td>27.740</td>\n",
       "      <td>3</td>\n",
       "      <td>no</td>\n",
       "      <td>northwest</td>\n",
       "      <td>7281.50560</td>\n",
       "    </tr>\n",
       "    <tr>\n",
       "      <th>8</th>\n",
       "      <td>37</td>\n",
       "      <td>male</td>\n",
       "      <td>29.830</td>\n",
       "      <td>2</td>\n",
       "      <td>no</td>\n",
       "      <td>northeast</td>\n",
       "      <td>6406.41070</td>\n",
       "    </tr>\n",
       "    <tr>\n",
       "      <th>9</th>\n",
       "      <td>60</td>\n",
       "      <td>female</td>\n",
       "      <td>25.840</td>\n",
       "      <td>0</td>\n",
       "      <td>no</td>\n",
       "      <td>northwest</td>\n",
       "      <td>28923.13692</td>\n",
       "    </tr>\n",
       "    <tr>\n",
       "      <th>10</th>\n",
       "      <td>25</td>\n",
       "      <td>male</td>\n",
       "      <td>26.220</td>\n",
       "      <td>0</td>\n",
       "      <td>no</td>\n",
       "      <td>northeast</td>\n",
       "      <td>2721.32080</td>\n",
       "    </tr>\n",
       "  </tbody>\n",
       "</table>\n",
       "</div>"
      ],
      "text/plain": [
       "    age     sex     bmi  children smoker     region      charges\n",
       "1    18    male  33.770         1     no  southeast   1725.55230\n",
       "2    28    male  33.000         3     no  southeast   4449.46200\n",
       "3    33    male  22.705         0     no  northwest  21984.47061\n",
       "4    32    male  28.880         0     no  northwest   3866.85520\n",
       "5    31  female  25.740         0     no  southeast   3756.62160\n",
       "6    46  female  33.440         1     no  southeast   8240.58960\n",
       "7    37  female  27.740         3     no  northwest   7281.50560\n",
       "8    37    male  29.830         2     no  northeast   6406.41070\n",
       "9    60  female  25.840         0     no  northwest  28923.13692\n",
       "10   25    male  26.220         0     no  northeast   2721.32080"
      ]
     },
     "execution_count": 6,
     "metadata": {},
     "output_type": "execute_result"
    }
   ],
   "source": [
    "nonsmoker_df = df[df[\"smoker\"]==\"no\"]\n",
    "nonsmoker_df.head(10)"
   ]
  },
  {
   "cell_type": "code",
   "execution_count": 7,
   "id": "bc398688",
   "metadata": {},
   "outputs": [
    {
     "data": {
      "text/plain": [
       "no     1064\n",
       "yes     274\n",
       "Name: smoker, dtype: int64"
      ]
     },
     "execution_count": 7,
     "metadata": {},
     "output_type": "execute_result"
    }
   ],
   "source": [
    "df[\"smoker\"].value_counts() # This line of code tells me how many observations\n",
    "# there are in both groups. Since both groups are above 15 for sample size, \n",
    "# this would negate the need for a normality test."
   ]
  },
  {
   "cell_type": "code",
   "execution_count": 8,
   "id": "6c846ed8",
   "metadata": {},
   "outputs": [
    {
     "data": {
      "text/plain": [
       "0     16884.9240\n",
       "11    27808.7251\n",
       "14    39611.7577\n",
       "19    36837.4670\n",
       "23    37701.8768\n",
       "Name: charges, dtype: float64"
      ]
     },
     "execution_count": 8,
     "metadata": {},
     "output_type": "execute_result"
    }
   ],
   "source": [
    "smoker_charge = smoker_df['charges']\n",
    "smoker_charge.head()"
   ]
  },
  {
   "cell_type": "code",
   "execution_count": 9,
   "id": "3bf5e19d",
   "metadata": {},
   "outputs": [
    {
     "data": {
      "text/plain": [
       "1     1725.55230\n",
       "2     4449.46200\n",
       "3    21984.47061\n",
       "4     3866.85520\n",
       "5     3756.62160\n",
       "Name: charges, dtype: float64"
      ]
     },
     "execution_count": 9,
     "metadata": {},
     "output_type": "execute_result"
    }
   ],
   "source": [
    "nonsmoker_charge = nonsmoker_df['charges']\n",
    "nonsmoker_charge.head()"
   ]
  },
  {
   "cell_type": "markdown",
   "id": "d8a1a8b6",
   "metadata": {},
   "source": [
    "# Testing for the normal distribution in the Smoker DF"
   ]
  },
  {
   "cell_type": "code",
   "execution_count": 10,
   "id": "c2a3de0b",
   "metadata": {},
   "outputs": [
    {
     "name": "stdout",
     "output_type": "stream",
     "text": [
      "NormaltestResult(statistic=61.03941356533816, pvalue=5.564930630036463e-14)\n"
     ]
    },
    {
     "data": {
      "text/plain": [
       "True"
      ]
     },
     "execution_count": 10,
     "metadata": {},
     "output_type": "execute_result"
    }
   ],
   "source": [
    "# data = df['runtime'].copy()\n",
    "result = stats.normaltest(smoker_df[\"charges\"])\n",
    "print(result)\n",
    "# Is the p-value less than 0.05?\n",
    "result.pvalue < .05"
   ]
  },
  {
   "cell_type": "markdown",
   "id": "61e544eb",
   "metadata": {},
   "source": [
    "# The Smoker DF is not normally distributed.\n",
    "This can be seen by the pvalue.  It is less than 0.05."
   ]
  },
  {
   "cell_type": "markdown",
   "id": "bbd3c689",
   "metadata": {},
   "source": [
    "# Testing for the normal distribution in the Non Smoker DF"
   ]
  },
  {
   "cell_type": "code",
   "execution_count": 11,
   "id": "6995587b",
   "metadata": {},
   "outputs": [
    {
     "name": "stdout",
     "output_type": "stream",
     "text": [
      "NormaltestResult(statistic=316.4528082392722, pvalue=1.9193129759002216e-69)\n"
     ]
    },
    {
     "data": {
      "text/plain": [
       "True"
      ]
     },
     "execution_count": 11,
     "metadata": {},
     "output_type": "execute_result"
    }
   ],
   "source": [
    "# data = df[\"runtime\"].copy()\n",
    "result = stats.normaltest(nonsmoker_df[\"charges\"])\n",
    "print(result)\n",
    "# Is the p-value less than 0.05?\n",
    "result.pvalue < .05"
   ]
  },
  {
   "cell_type": "markdown",
   "id": "b2916c1f",
   "metadata": {},
   "source": [
    "# The Non Smoker DF is not normally distributed.\n",
    "\n",
    "This can be seen in the pvalue.  It is less than 0.05."
   ]
  },
  {
   "cell_type": "code",
   "execution_count": 12,
   "id": "ba11de4f",
   "metadata": {},
   "outputs": [
    {
     "data": {
      "text/plain": [
       "LeveneResult(statistic=332.6135162726081, pvalue=1.5593284881803726e-66)"
      ]
     },
     "execution_count": 12,
     "metadata": {},
     "output_type": "execute_result"
    }
   ],
   "source": [
    "result = stats.levene(smoker_df[\"charges\"], nonsmoker_df[\"charges\"])\n",
    "result"
   ]
  },
  {
   "cell_type": "markdown",
   "id": "619547ff",
   "metadata": {},
   "source": [
    "# The Levene Test Results\n",
    "\n",
    "Because the pvalue is below 0.05, this shows that I reject the Null Hypothesis because the Equal Variance is false."
   ]
  },
  {
   "cell_type": "markdown",
   "id": "fea705e7",
   "metadata": {},
   "source": [
    "#  Outliers\n",
    "\n",
    "There are none in the Charges DF, but there are 24 in the Smokers DF."
   ]
  },
  {
   "cell_type": "code",
   "execution_count": 13,
   "id": "245974fa",
   "metadata": {},
   "outputs": [
    {
     "data": {
      "text/plain": [
       "0"
      ]
     },
     "execution_count": 13,
     "metadata": {},
     "output_type": "execute_result"
    }
   ],
   "source": [
    "zscores_s = stats.zscore(smoker_charge)\n",
    "outliers_s = abs(zscores_s)>3\n",
    "np.sum(outliers_s)"
   ]
  },
  {
   "cell_type": "code",
   "execution_count": 14,
   "id": "5a8986ec",
   "metadata": {},
   "outputs": [
    {
     "data": {
      "text/plain": [
       "24"
      ]
     },
     "execution_count": 14,
     "metadata": {},
     "output_type": "execute_result"
    }
   ],
   "source": [
    "zscores_ns = stats.zscore(nonsmoker_charge)\n",
    "outliers_ns = abs(zscores_ns)>3\n",
    "np.sum(outliers_ns)"
   ]
  },
  {
   "cell_type": "markdown",
   "id": "0da9d469",
   "metadata": {},
   "source": [
    "# Removing the Outliers"
   ]
  },
  {
   "cell_type": "code",
   "execution_count": 15,
   "id": "de58b3b1",
   "metadata": {},
   "outputs": [],
   "source": [
    "# remove outlier for non smoker group\n",
    "nonsmoker_charge = nonsmoker_charge[(np.abs(stats.zscore(nonsmoker_charge)) < 3)]"
   ]
  },
  {
   "cell_type": "markdown",
   "id": "1cb4f122",
   "metadata": {},
   "source": [
    "# Run the T Test"
   ]
  },
  {
   "cell_type": "code",
   "execution_count": 16,
   "id": "08f1e96a",
   "metadata": {},
   "outputs": [
    {
     "data": {
      "text/plain": [
       "Ttest_indResult(statistic=33.732305987092516, pvalue=2.575322662587431e-104)"
      ]
     },
     "execution_count": 16,
     "metadata": {},
     "output_type": "execute_result"
    }
   ],
   "source": [
    "result = stats.ttest_ind(smoker_charge, nonsmoker_charge, equal_var = False)\n",
    "result"
   ]
  },
  {
   "cell_type": "markdown",
   "id": "eea1ff82",
   "metadata": {},
   "source": [
    "# Result of the T Test\n",
    "\n",
    "The pvalue is less than 0.05.  That tells us to reject the null hypothesis and accept that there is a significant difference in the cost of insurances between being a smoker and non smoker."
   ]
  },
  {
   "cell_type": "code",
   "execution_count": 17,
   "id": "5dbee354",
   "metadata": {},
   "outputs": [
    {
     "data": {
      "image/png": "[encoded data removed]",
      "text/plain": [
       "<Figure size 1000x500 with 2 Axes>"
      ]
     },
     "metadata": {},
     "output_type": "display_data"
    }
   ],
   "source": [
    "\n",
    "# specify colors\n",
    "colors = {'yes': 'green', \"no\": 'yellow', \n",
    "          'yes_avg' : 'cyan', 'no_avg' : 'fuchsia'}\n",
    "\n",
    "# visualize means\n",
    "fig, (ax, ax_bar) = plt.subplots(figsize = (10, 5), ncols = 2, \n",
    "                                 constrained_layout = True,\n",
    "                                 gridspec_kw = {'width_ratios': [0.8, 0.2]})\n",
    "\n",
    "# histogram\n",
    "ax = sns.histplot(data = df, x = 'charges', fill = True, hue = 'smoker', \n",
    "                  kde = True, stat = 'density', common_norm = False, ax = ax, \n",
    "                  palette = colors)\n",
    "\n",
    "ax.axvline(np.mean(smoker_charge), ls = '--', lw = 3, \n",
    "           label = f\"Smokers (Mean = {np.mean(smoker_charge): .2f})\",\n",
    "           color = colors['yes_avg'])\n",
    "\n",
    "ax.axvline(np.mean(nonsmoker_charge), ls = '--', lw = 3, \n",
    "           label = f\"Non-Smokers (Mean = {np.mean(nonsmoker_charge): .2f})\",\n",
    "           color = colors['no_avg'])\n",
    "\n",
    "ax.legend(prop = {\"size\": 10}, loc = 'best')\n",
    "\n",
    "# barplot\n",
    "sns.barplot(data = df, x = 'smoker', y = 'charges', ax = ax_bar,\n",
    "            palette = colors)\n",
    "\n",
    "fig.suptitle('Insurance Charges of Smokers vs. Non-Smokers', fontsize = 'xx-large');"
   ]
  },
  {
   "cell_type": "markdown",
   "id": "e322ac7b",
   "metadata": {},
   "source": [
    "# Q2. Are men more likely to smoke than women?\n",
    "\n",
    "The Null Hypothesis is men are not more likely to smoke than women.\n",
    "\n",
    "The Alternative Hypothesis is men are more likely to smoke than women.\n",
    "\n",
    "Alpha value = 0.05\n",
    "\n",
    "Because the data for this question is categorical, I will be using the Chi-Square Test to answer the question."
   ]
  },
  {
   "cell_type": "code",
   "execution_count": 18,
   "id": "4aecf41b",
   "metadata": {},
   "outputs": [
    {
     "data": {
      "image/png": "[encoded data removed]",
      "text/plain": [
       "<Figure size 640x480 with 1 Axes>"
      ]
     },
     "metadata": {},
     "output_type": "display_data"
    }
   ],
   "source": [
    "ax = sns.countplot(data=df, x='sex',hue='smoker',)\n",
    "ax.set_title(\"Smokers by Sex\");"
   ]
  },
  {
   "cell_type": "markdown",
   "id": "f739d57f",
   "metadata": {},
   "source": [
    "# Contingency Table\n",
    "\n",
    "This will show us how many smokers were male or female.  It will also show us if the male or female was a smoker or not."
   ]
  },
  {
   "cell_type": "code",
   "execution_count": 19,
   "id": "9a54fe9b",
   "metadata": {},
   "outputs": [
    {
     "data": {
      "text/html": [
       "<div>\n",
       "<style scoped>\n",
       "    .dataframe tbody tr th:only-of-type {\n",
       "        vertical-align: middle;\n",
       "    }\n",
       "\n",
       "    .dataframe tbody tr th {\n",
       "        vertical-align: top;\n",
       "    }\n",
       "\n",
       "    .dataframe thead th {\n",
       "        text-align: right;\n",
       "    }\n",
       "</style>\n",
       "<table border=\"1\" class=\"dataframe\">\n",
       "  <thead>\n",
       "    <tr style=\"text-align: right;\">\n",
       "      <th>smoker</th>\n",
       "      <th>no</th>\n",
       "      <th>yes</th>\n",
       "    </tr>\n",
       "    <tr>\n",
       "      <th>sex</th>\n",
       "      <th></th>\n",
       "      <th></th>\n",
       "    </tr>\n",
       "  </thead>\n",
       "  <tbody>\n",
       "    <tr>\n",
       "      <th>female</th>\n",
       "      <td>547</td>\n",
       "      <td>115</td>\n",
       "    </tr>\n",
       "    <tr>\n",
       "      <th>male</th>\n",
       "      <td>517</td>\n",
       "      <td>159</td>\n",
       "    </tr>\n",
       "  </tbody>\n",
       "</table>\n",
       "</div>"
      ],
      "text/plain": [
       "smoker   no  yes\n",
       "sex             \n",
       "female  547  115\n",
       "male    517  159"
      ]
     },
     "execution_count": 19,
     "metadata": {},
     "output_type": "execute_result"
    }
   ],
   "source": [
    "table = pd.crosstab(df['sex'], df['smoker'])\n",
    "table"
   ]
  },
  {
   "cell_type": "code",
   "execution_count": 20,
   "id": "62fb4448",
   "metadata": {},
   "outputs": [],
   "source": [
    "result = stats.chi2_contingency(table)\n",
    "chi2, p, deg_free, expected_vals = result #this labels the results"
   ]
  },
  {
   "cell_type": "code",
   "execution_count": 21,
   "id": "b3459e79",
   "metadata": {},
   "outputs": [
    {
     "name": "stdout",
     "output_type": "stream",
     "text": [
      "0.006548143503580696\n"
     ]
    },
    {
     "data": {
      "text/plain": [
       "True"
      ]
     },
     "execution_count": 21,
     "metadata": {},
     "output_type": "execute_result"
    }
   ],
   "source": [
    "print(p)\n",
    "p<.05"
   ]
  },
  {
   "cell_type": "markdown",
   "id": "a2ee0a11",
   "metadata": {},
   "source": [
    "# PValue for the Chi-Squared Table\n",
    "\n",
    "This shows us that we will reject the null hypothesis that men are more likely to smoke than women."
   ]
  },
  {
   "cell_type": "markdown",
   "id": "05bed226",
   "metadata": {},
   "source": [
    "# Q3. Do different regions have different charges, on average?\n",
    "\n",
    "Null Hypothesis - Different regions have the same charges.\n",
    "\n",
    "Alternative Hypothesis - Different regions do not have the same charges.\n",
    "\n",
    "Alpha Value = 0.05\n",
    "\n",
    "I will be using the ANOVA test because there are 4 different groups I am testing and they are numerical.\n",
    "\n",
    "The assumptions I will be testing are:\n",
    "\n",
    "* Normality\n",
    "\n",
    "* Equal Variance\n",
    "\n",
    "* No significant outliers"
   ]
  },
  {
   "cell_type": "code",
   "execution_count": 22,
   "id": "596bf7a4",
   "metadata": {},
   "outputs": [
    {
     "data": {
      "text/plain": [
       "southeast    364\n",
       "southwest    325\n",
       "northwest    325\n",
       "northeast    324\n",
       "Name: region, dtype: int64"
      ]
     },
     "execution_count": 22,
     "metadata": {},
     "output_type": "execute_result"
    }
   ],
   "source": [
    "# Numerical threshold for sample sizes\n",
    "df[\"region\"].value_counts()"
   ]
  },
  {
   "cell_type": "code",
   "execution_count": 23,
   "id": "f91addc0",
   "metadata": {},
   "outputs": [
    {
     "data": {
      "image/png": "[encoded data removed]",
      "text/plain": [
       "<Figure size 640x480 with 1 Axes>"
      ]
     },
     "metadata": {},
     "output_type": "display_data"
    }
   ],
   "source": [
    "ax = sns.barplot(data=df, x=\"region\", y=\"charges\");"
   ]
  },
  {
   "cell_type": "markdown",
   "id": "407d5ab3",
   "metadata": {},
   "source": [
    "# Creating a dictionary for the Groups"
   ]
  },
  {
   "cell_type": "code",
   "execution_count": 24,
   "id": "634f0179",
   "metadata": {},
   "outputs": [
    {
     "data": {
      "text/plain": [
       "dict_keys(['southwest', 'southeast', 'northwest', 'northeast'])"
      ]
     },
     "execution_count": 24,
     "metadata": {},
     "output_type": "execute_result"
    }
   ],
   "source": [
    "## Create groups dictionary. There are 4 groups\n",
    "groups = {}\n",
    "## Loop through all unique categories\n",
    "for i in df[\"region\"].unique():\n",
    "    ## Get series for group and rename\n",
    "    data = df.loc[df[\"region\"]==i,'charges'].copy()\n",
    "    \n",
    "    # save into the dictionary\n",
    "    groups[i] = data\n",
    "groups.keys()"
   ]
  },
  {
   "cell_type": "code",
   "execution_count": 25,
   "id": "9b52c786",
   "metadata": {},
   "outputs": [
    {
     "data": {
      "text/plain": [
       "dict_values([0       16884.92400\n",
       "12       1826.84300\n",
       "15       1837.23700\n",
       "18      10602.38500\n",
       "19      36837.46700\n",
       "           ...     \n",
       "1316     1731.67700\n",
       "1329    10325.20600\n",
       "1331    10795.93733\n",
       "1332    11411.68500\n",
       "1336     2007.94500\n",
       "Name: charges, Length: 325, dtype: float64, 1        1725.5523\n",
       "2        4449.4620\n",
       "5        3756.6216\n",
       "6        8240.5896\n",
       "11      27808.7251\n",
       "           ...    \n",
       "1322    12981.3457\n",
       "1323    43896.3763\n",
       "1327     9377.9047\n",
       "1330    12629.1656\n",
       "1335     1629.8335\n",
       "Name: charges, Length: 364, dtype: float64, 3       21984.47061\n",
       "4        3866.85520\n",
       "7        7281.50560\n",
       "9       28923.13692\n",
       "24       6203.90175\n",
       "           ...     \n",
       "1319     7201.70085\n",
       "1320     5425.02335\n",
       "1324     4239.89265\n",
       "1333    10600.54830\n",
       "1337    29141.36030\n",
       "Name: charges, Length: 325, dtype: float64, 8        6406.41070\n",
       "10       2721.32080\n",
       "16      10797.33620\n",
       "17       2395.17155\n",
       "20      13228.84695\n",
       "           ...     \n",
       "1321    28101.33305\n",
       "1325    13143.33665\n",
       "1326     7050.02130\n",
       "1328    22395.74424\n",
       "1334     2205.98080\n",
       "Name: charges, Length: 324, dtype: float64])"
      ]
     },
     "execution_count": 25,
     "metadata": {},
     "output_type": "execute_result"
    }
   ],
   "source": [
    "groups.values()"
   ]
  },
  {
   "cell_type": "markdown",
   "id": "467b4f5b",
   "metadata": {},
   "source": [
    "# Testing Assumption on the Group\n",
    "\n",
    "Normality Assumption Group"
   ]
  },
  {
   "cell_type": "code",
   "execution_count": 26,
   "id": "6abe3308",
   "metadata": {},
   "outputs": [
    {
     "data": {
      "text/html": [
       "<div>\n",
       "<style scoped>\n",
       "    .dataframe tbody tr th:only-of-type {\n",
       "        vertical-align: middle;\n",
       "    }\n",
       "\n",
       "    .dataframe tbody tr th {\n",
       "        vertical-align: top;\n",
       "    }\n",
       "\n",
       "    .dataframe thead th {\n",
       "        text-align: right;\n",
       "    }\n",
       "</style>\n",
       "<table border=\"1\" class=\"dataframe\">\n",
       "  <thead>\n",
       "    <tr style=\"text-align: right;\">\n",
       "      <th></th>\n",
       "      <th>n</th>\n",
       "      <th>p</th>\n",
       "      <th>test stat</th>\n",
       "    </tr>\n",
       "  </thead>\n",
       "  <tbody>\n",
       "    <tr>\n",
       "      <th>southwest</th>\n",
       "      <td>325.0</td>\n",
       "      <td>0.0</td>\n",
       "      <td>102.29406</td>\n",
       "    </tr>\n",
       "    <tr>\n",
       "      <th>southeast</th>\n",
       "      <td>364.0</td>\n",
       "      <td>0.0</td>\n",
       "      <td>65.87745</td>\n",
       "    </tr>\n",
       "    <tr>\n",
       "      <th>northwest</th>\n",
       "      <td>325.0</td>\n",
       "      <td>0.0</td>\n",
       "      <td>107.23285</td>\n",
       "    </tr>\n",
       "    <tr>\n",
       "      <th>northeast</th>\n",
       "      <td>324.0</td>\n",
       "      <td>0.0</td>\n",
       "      <td>86.74763</td>\n",
       "    </tr>\n",
       "  </tbody>\n",
       "</table>\n",
       "</div>"
      ],
      "text/plain": [
       "               n    p  test stat\n",
       "southwest  325.0  0.0  102.29406\n",
       "southeast  364.0  0.0   65.87745\n",
       "northwest  325.0  0.0  107.23285\n",
       "northeast  324.0  0.0   86.74763"
      ]
     },
     "execution_count": 26,
     "metadata": {},
     "output_type": "execute_result"
    }
   ],
   "source": [
    "## Running normal test on each group and confirming there are >20 in each group\n",
    "norm_results = {}\n",
    "for i, data in groups.items():\n",
    "    stat, p = stats.normaltest(data)\n",
    "    ## save the p val, test statistic, and the size of the group\n",
    "    norm_results[i] = {'n': len(data),\n",
    "                             'p':round(p,5),\n",
    "                             'test stat':round(stat,5)}\n",
    "## convert to a dataframe\n",
    "norm_results_df = pd.DataFrame(norm_results).T\n",
    "norm_results_df"
   ]
  },
  {
   "cell_type": "markdown",
   "id": "a3ef01e3",
   "metadata": {},
   "source": [
    "# Results\n",
    "\n",
    "Because the data is not normally distributed, we reject the null hypothesis.  The ANOVA test will still continue because we have more then 15 sample sets in this data."
   ]
  },
  {
   "cell_type": "markdown",
   "id": "e3b5e123",
   "metadata": {},
   "source": [
    "# Equal Variance Assumption Test"
   ]
  },
  {
   "cell_type": "code",
   "execution_count": 27,
   "id": "1e142be6",
   "metadata": {},
   "outputs": [
    {
     "data": {
      "text/plain": [
       "LeveneResult(statistic=5.559966758410606, pvalue=0.0008610590250786703)"
      ]
     },
     "execution_count": 27,
     "metadata": {},
     "output_type": "execute_result"
    }
   ],
   "source": [
    "stats.levene(*groups.values())"
   ]
  },
  {
   "cell_type": "markdown",
   "id": "f7a39739",
   "metadata": {},
   "source": [
    " # Results\n",
    " \n",
    " Because the pvalue is much less than 0.05, we are rejecting the null hypothesis of equal variance.  It doesn't have equal variance so we can't use the ANOVE testing.  We will try the Kruskal=Wallis test because it uses the median instead of mean.  The Kruskal-Wallis test is a non-parametric test, which makes it easier to use the median and not have to rely on the outliers for information."
   ]
  },
  {
   "cell_type": "markdown",
   "id": "2e8247fe",
   "metadata": {},
   "source": [
    "# Krustal-Wallis Test"
   ]
  },
  {
   "cell_type": "code",
   "execution_count": 28,
   "id": "e13ddbcd",
   "metadata": {},
   "outputs": [
    {
     "name": "stdout",
     "output_type": "stream",
     "text": [
      "KruskalResult(statistic=4.734181215658743, pvalue=0.19232908072121002)\n",
      "Rounded T-statistic: 4.73418\n",
      "Rounded p-value: 0.19233\n"
     ]
    }
   ],
   "source": [
    "result = stats.kruskal(*groups.values())\n",
    "print(result)\n",
    "print(f\"Rounded T-statistic: {round(result.statistic, 5)}\")\n",
    "print(f\"Rounded p-value: {round(result.pvalue, 5)}\")"
   ]
  },
  {
   "cell_type": "markdown",
   "id": "c5acb6cb",
   "metadata": {},
   "source": [
    "# Results\n",
    "The pvalue on this test is larger than 0.05.  Because of that, we will fail to reject the null hypothesis of different regions having the same insurance charges.  The difference is not statisctically significant per region."
   ]
  }
 ],
 "metadata": {
  "kernelspec": {
   "display_name": "Python (dojo-env)",
   "language": "python",
   "name": "dojo-env"
  },
  "language_info": {
   "codemirror_mode": {
    "name": "ipython",
    "version": 3
   },
   "file_extension": ".py",
   "mimetype": "text/x-python",
   "name": "python",
   "nbconvert_exporter": "python",
   "pygments_lexer": "ipython3",
   "version": "3.9.15"
  },
  "toc": {
   "base_numbering": 1,
   "nav_menu": {},
   "number_sections": true,
   "sideBar": true,
   "skip_h1_title": false,
   "title_cell": "Table of Contents",
   "title_sidebar": "Contents",
   "toc_cell": false,
   "toc_position": {},
   "toc_section_display": true,
   "toc_window_display": false
  }
 },
 "nbformat": 4,
 "nbformat_minor": 5
}
